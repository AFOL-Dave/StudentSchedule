{
 "cells": [
  {
   "cell_type": "markdown",
   "id": "7b560508",
   "metadata": {},
   "source": [
    "# Description\n",
    "The ninth practical project in the [Super Data Science](https://www.superdatascience.com) [Python 3 Masterclass](https://www.superdatascience.com/courses/python-3-programming-beginner-to-pro-masterclass) is a student schedule application. The scenario for the application is to assume you are a college student with a schedule of classes. To determine what class you have at a certain time of the day, you would log into the application and provide a time. The application responds with the class at that time, along with the lecture notes."
   ]
  },
  {
   "cell_type": "code",
   "execution_count": 9,
   "id": "e4043142",
   "metadata": {},
   "outputs": [
    {
     "name": "stdout",
     "output_type": "stream",
     "text": [
      "Username: dsnyder\n",
      "Password: ········\n",
      "\n",
      "Welcome!\n",
      "Hour (24 Hour Format; Between 8 and 15 ): 10\n",
      "You should attend: Programming Lecture, Room A\n",
      "\n",
      "Lecture Notes\n",
      "Date: 2016/10/25\n",
      "Professor: Mitch Robert\n",
      "Lecture 1: Programming Basics\n",
      "\n",
      "Coding Exercise #1\n",
      "kmh = int(input(\"Enter speed in km/h: \"))\n",
      "mph =  0.6214 * kmh\n",
      "print(\"Speed in Km per hour =\", kmh, \"KM/H\")\n",
      "print(\"Speed in Miles per hour =\", mph, \"MPH\")\n"
     ]
    }
   ],
   "source": [
    "import getpass\n",
    "\n",
    "def class_schedule(hour):\n",
    "    classes = {\"10\": \"Programming Lecture, Room A\",\n",
    "               \"12\": \"Computer Vision Lecture, Room E\",\n",
    "               \"13\": \"Lunch, Cafeteria\",\n",
    "               \"15\": \"Group Project Meeting, Room F\"}\n",
    "    print(\"You should attend: {}\".format(classes[hour]))\n",
    "    \n",
    "def class_notes():\n",
    "    notes = open('Lecture_Notes.txt')\n",
    "    print(notes.read())\n",
    "    \n",
    "username = \"dsnyder\"\n",
    "password = \"p@ssw0rd!\"\n",
    "\n",
    "supplied_username = input(\"Username: \").lower()\n",
    "supplied_password = getpass.getpass(\"Password: \")\n",
    "\n",
    "if username == supplied_username and password == supplied_password:\n",
    "    print(\"\\nWelcome!\")\n",
    "    supplied_hour = input(\"Hour (24 Hour Format; Between 8 and 15 ): \")\n",
    "    class_schedule(supplied_hour)\n",
    "    class_notes()\n",
    "    \n",
    "else:\n",
    "    print(\"\\nInvalid Credentials. Access Denied.\")\n",
    "    print(supplied_username, supplied_password)"
   ]
  }
 ],
 "metadata": {
  "kernelspec": {
   "display_name": "Python 3",
   "language": "python",
   "name": "python3"
  },
  "language_info": {
   "codemirror_mode": {
    "name": "ipython",
    "version": 3
   },
   "file_extension": ".py",
   "mimetype": "text/x-python",
   "name": "python",
   "nbconvert_exporter": "python",
   "pygments_lexer": "ipython3",
   "version": "3.8.8"
  }
 },
 "nbformat": 4,
 "nbformat_minor": 5
}
